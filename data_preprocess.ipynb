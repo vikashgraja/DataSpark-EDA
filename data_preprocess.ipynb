{
 "cells": [
  {
   "cell_type": "code",
   "execution_count": 1,
   "id": "8fee0982-3e53-4150-bd7c-10f8ba128faa",
   "metadata": {},
   "outputs": [],
   "source": [
    "import matplotlib.pyplot as plt\n",
    "import seaborn as sns\n",
    "import pandas as pd\n",
    "\n",
    "sns.set(style=\"whitegrid\", palette=\"muted\", color_codes=True)"
   ]
  },
  {
   "cell_type": "markdown",
   "id": "0ad5b7fd-122e-41fe-8823-1223749c4ff0",
   "metadata": {
    "jp-MarkdownHeadingCollapsed": true
   },
   "source": [
    "## Read Dataset"
   ]
  },
  {
   "cell_type": "code",
   "execution_count": 2,
   "id": "d19cdf17-3467-4ccd-b2df-6196ced514c7",
   "metadata": {},
   "outputs": [],
   "source": [
    "customers_data = pd.read_csv(r'dataset/master/Customers.csv',encoding='cp1252')\n",
    "exchange_rates_data = pd.read_csv(r'dataset/master/Exchange_Rates.csv',encoding='cp1252')\n",
    "products_data = pd.read_csv(r'dataset/master/Products.csv',encoding='cp1252')\n",
    "sales_data = pd.read_csv(r'dataset/master/Sales.csv',encoding='cp1252')\n",
    "stores_data = pd.read_csv(r'dataset/master/Stores.csv',encoding='cp1252')"
   ]
  },
  {
   "cell_type": "markdown",
   "id": "172ccb89-65fa-4ff1-b920-ba99ad130427",
   "metadata": {
    "jp-MarkdownHeadingCollapsed": true
   },
   "source": [
    "## Cleaning Dataset"
   ]
  },
  {
   "cell_type": "markdown",
   "id": "d4a7f117-c150-4add-a520-17510e8d7261",
   "metadata": {},
   "source": [
    "### Customers Data"
   ]
  },
  {
   "cell_type": "code",
   "execution_count": 3,
   "id": "e319ff10-efbe-4c03-95a6-9414e18cacda",
   "metadata": {},
   "outputs": [
    {
     "name": "stdout",
     "output_type": "stream",
     "text": [
      "<class 'pandas.core.frame.DataFrame'>\n",
      "RangeIndex: 15266 entries, 0 to 15265\n",
      "Data columns (total 10 columns):\n",
      " #   Column       Non-Null Count  Dtype \n",
      "---  ------       --------------  ----- \n",
      " 0   CustomerKey  15266 non-null  int64 \n",
      " 1   Gender       15266 non-null  object\n",
      " 2   Name         15266 non-null  object\n",
      " 3   City         15266 non-null  object\n",
      " 4   State Code   15256 non-null  object\n",
      " 5   State        15266 non-null  object\n",
      " 6   Zip Code     15266 non-null  object\n",
      " 7   Country      15266 non-null  object\n",
      " 8   Continent    15266 non-null  object\n",
      " 9   Birthday     15266 non-null  object\n",
      "dtypes: int64(1), object(9)\n",
      "memory usage: 1.2+ MB\n"
     ]
    }
   ],
   "source": [
    "customers_data.info()"
   ]
  },
  {
   "cell_type": "code",
   "execution_count": 4,
   "id": "ffedb502-ca9f-467d-a08b-780b3ee414d6",
   "metadata": {},
   "outputs": [
    {
     "data": {
      "text/plain": [
       "CustomerKey    False\n",
       "Gender         False\n",
       "Name           False\n",
       "City           False\n",
       "State Code      True\n",
       "State          False\n",
       "Zip Code       False\n",
       "Country        False\n",
       "Continent      False\n",
       "Birthday       False\n",
       "dtype: bool"
      ]
     },
     "execution_count": 4,
     "metadata": {},
     "output_type": "execute_result"
    }
   ],
   "source": [
    "customers_data.isnull().any() # State Code"
   ]
  },
  {
   "cell_type": "code",
   "execution_count": 5,
   "id": "f71b9e31-635b-404e-813a-6197c1b246ed",
   "metadata": {},
   "outputs": [],
   "source": [
    "customers_df = customers_data.copy()"
   ]
  },
  {
   "cell_type": "code",
   "execution_count": 6,
   "id": "b54e03ec-be68-40bf-ad73-7a895744e809",
   "metadata": {},
   "outputs": [],
   "source": [
    "customers_df = customers_df.astype({'CustomerKey':'str','Birthday':'datetime64[ns]'})"
   ]
  },
  {
   "cell_type": "code",
   "execution_count": null,
   "id": "524dcf09-f044-4f61-b284-1546e8343fa2",
   "metadata": {},
   "outputs": [],
   "source": []
  },
  {
   "cell_type": "code",
   "execution_count": 7,
   "id": "268f2306-593a-4305-9910-21aafcdc9561",
   "metadata": {},
   "outputs": [
    {
     "data": {
      "text/html": [
       "<div>\n",
       "<style scoped>\n",
       "    .dataframe tbody tr th:only-of-type {\n",
       "        vertical-align: middle;\n",
       "    }\n",
       "\n",
       "    .dataframe tbody tr th {\n",
       "        vertical-align: top;\n",
       "    }\n",
       "\n",
       "    .dataframe thead th {\n",
       "        text-align: right;\n",
       "    }\n",
       "</style>\n",
       "<table border=\"1\" class=\"dataframe\">\n",
       "  <thead>\n",
       "    <tr style=\"text-align: right;\">\n",
       "      <th></th>\n",
       "      <th>CustomerKey</th>\n",
       "      <th>Gender</th>\n",
       "      <th>Name</th>\n",
       "      <th>City</th>\n",
       "      <th>State Code</th>\n",
       "      <th>State</th>\n",
       "      <th>Zip Code</th>\n",
       "      <th>Country</th>\n",
       "      <th>Continent</th>\n",
       "      <th>Birthday</th>\n",
       "    </tr>\n",
       "  </thead>\n",
       "  <tbody>\n",
       "    <tr>\n",
       "      <th>5304</th>\n",
       "      <td>729681</td>\n",
       "      <td>Female</td>\n",
       "      <td>Rossana Padovesi</td>\n",
       "      <td>Polvica</td>\n",
       "      <td>NaN</td>\n",
       "      <td>Napoli</td>\n",
       "      <td>80035</td>\n",
       "      <td>Italy</td>\n",
       "      <td>Europe</td>\n",
       "      <td>1981-04-18</td>\n",
       "    </tr>\n",
       "    <tr>\n",
       "      <th>5316</th>\n",
       "      <td>732289</td>\n",
       "      <td>Male</td>\n",
       "      <td>Indro Piccio</td>\n",
       "      <td>Varcaturo</td>\n",
       "      <td>NaN</td>\n",
       "      <td>Napoli</td>\n",
       "      <td>80014</td>\n",
       "      <td>Italy</td>\n",
       "      <td>Europe</td>\n",
       "      <td>1949-02-24</td>\n",
       "    </tr>\n",
       "    <tr>\n",
       "      <th>5372</th>\n",
       "      <td>742042</td>\n",
       "      <td>Male</td>\n",
       "      <td>Amaranto Loggia</td>\n",
       "      <td>Casaferro</td>\n",
       "      <td>NaN</td>\n",
       "      <td>Napoli</td>\n",
       "      <td>80034</td>\n",
       "      <td>Italy</td>\n",
       "      <td>Europe</td>\n",
       "      <td>1936-03-14</td>\n",
       "    </tr>\n",
       "    <tr>\n",
       "      <th>5377</th>\n",
       "      <td>742886</td>\n",
       "      <td>Female</td>\n",
       "      <td>Edmonda Capon</td>\n",
       "      <td>Terzigno</td>\n",
       "      <td>NaN</td>\n",
       "      <td>Napoli</td>\n",
       "      <td>80040</td>\n",
       "      <td>Italy</td>\n",
       "      <td>Europe</td>\n",
       "      <td>1963-08-06</td>\n",
       "    </tr>\n",
       "    <tr>\n",
       "      <th>5378</th>\n",
       "      <td>743343</td>\n",
       "      <td>Female</td>\n",
       "      <td>Ambra Sagese</td>\n",
       "      <td>Pomigliano D'Arco</td>\n",
       "      <td>NaN</td>\n",
       "      <td>Napoli</td>\n",
       "      <td>80038</td>\n",
       "      <td>Italy</td>\n",
       "      <td>Europe</td>\n",
       "      <td>1961-01-05</td>\n",
       "    </tr>\n",
       "    <tr>\n",
       "      <th>5485</th>\n",
       "      <td>759705</td>\n",
       "      <td>Male</td>\n",
       "      <td>Callisto Lo Duca</td>\n",
       "      <td>Casilli</td>\n",
       "      <td>NaN</td>\n",
       "      <td>Napoli</td>\n",
       "      <td>80047</td>\n",
       "      <td>Italy</td>\n",
       "      <td>Europe</td>\n",
       "      <td>1976-08-28</td>\n",
       "    </tr>\n",
       "    <tr>\n",
       "      <th>5525</th>\n",
       "      <td>765589</td>\n",
       "      <td>Male</td>\n",
       "      <td>Michelino Lucchesi</td>\n",
       "      <td>Pompei Scavi</td>\n",
       "      <td>NaN</td>\n",
       "      <td>Napoli</td>\n",
       "      <td>80045</td>\n",
       "      <td>Italy</td>\n",
       "      <td>Europe</td>\n",
       "      <td>1947-11-13</td>\n",
       "    </tr>\n",
       "    <tr>\n",
       "      <th>5531</th>\n",
       "      <td>766410</td>\n",
       "      <td>Male</td>\n",
       "      <td>Adelmio Beneventi</td>\n",
       "      <td>Licola</td>\n",
       "      <td>NaN</td>\n",
       "      <td>Napoli</td>\n",
       "      <td>80078</td>\n",
       "      <td>Italy</td>\n",
       "      <td>Europe</td>\n",
       "      <td>1940-01-13</td>\n",
       "    </tr>\n",
       "    <tr>\n",
       "      <th>5631</th>\n",
       "      <td>781667</td>\n",
       "      <td>Female</td>\n",
       "      <td>Ilda Manna</td>\n",
       "      <td>Napoli</td>\n",
       "      <td>NaN</td>\n",
       "      <td>Napoli</td>\n",
       "      <td>80134</td>\n",
       "      <td>Italy</td>\n",
       "      <td>Europe</td>\n",
       "      <td>1977-05-08</td>\n",
       "    </tr>\n",
       "    <tr>\n",
       "      <th>5695</th>\n",
       "      <td>789177</td>\n",
       "      <td>Male</td>\n",
       "      <td>Calogero Folliero</td>\n",
       "      <td>Mariglianella</td>\n",
       "      <td>NaN</td>\n",
       "      <td>Napoli</td>\n",
       "      <td>80030</td>\n",
       "      <td>Italy</td>\n",
       "      <td>Europe</td>\n",
       "      <td>2000-03-03</td>\n",
       "    </tr>\n",
       "  </tbody>\n",
       "</table>\n",
       "</div>"
      ],
      "text/plain": [
       "     CustomerKey  Gender                Name               City State Code  \\\n",
       "5304      729681  Female    Rossana Padovesi            Polvica        NaN   \n",
       "5316      732289    Male        Indro Piccio          Varcaturo        NaN   \n",
       "5372      742042    Male     Amaranto Loggia          Casaferro        NaN   \n",
       "5377      742886  Female       Edmonda Capon           Terzigno        NaN   \n",
       "5378      743343  Female        Ambra Sagese  Pomigliano D'Arco        NaN   \n",
       "5485      759705    Male    Callisto Lo Duca            Casilli        NaN   \n",
       "5525      765589    Male  Michelino Lucchesi       Pompei Scavi        NaN   \n",
       "5531      766410    Male   Adelmio Beneventi             Licola        NaN   \n",
       "5631      781667  Female          Ilda Manna             Napoli        NaN   \n",
       "5695      789177    Male   Calogero Folliero      Mariglianella        NaN   \n",
       "\n",
       "       State Zip Code Country Continent   Birthday  \n",
       "5304  Napoli    80035   Italy    Europe 1981-04-18  \n",
       "5316  Napoli    80014   Italy    Europe 1949-02-24  \n",
       "5372  Napoli    80034   Italy    Europe 1936-03-14  \n",
       "5377  Napoli    80040   Italy    Europe 1963-08-06  \n",
       "5378  Napoli    80038   Italy    Europe 1961-01-05  \n",
       "5485  Napoli    80047   Italy    Europe 1976-08-28  \n",
       "5525  Napoli    80045   Italy    Europe 1947-11-13  \n",
       "5531  Napoli    80078   Italy    Europe 1940-01-13  \n",
       "5631  Napoli    80134   Italy    Europe 1977-05-08  \n",
       "5695  Napoli    80030   Italy    Europe 2000-03-03  "
      ]
     },
     "execution_count": 7,
     "metadata": {},
     "output_type": "execute_result"
    }
   ],
   "source": [
    "customers_df[customers_df.isnull().values] # Napoli is a city in Naples(NA),Italy"
   ]
  },
  {
   "cell_type": "code",
   "execution_count": 8,
   "id": "97556ac2-2c73-496b-97cf-6e1c526f644f",
   "metadata": {},
   "outputs": [],
   "source": [
    "customers_df.loc[customers_df['State']=='Napoli', ['State Code','State']] = ['NA','Naples']"
   ]
  },
  {
   "cell_type": "code",
   "execution_count": 9,
   "id": "cb569a11-ce98-49ca-946a-3e47294e3863",
   "metadata": {},
   "outputs": [
    {
     "name": "stdout",
     "output_type": "stream",
     "text": [
      "<class 'pandas.core.frame.DataFrame'>\n",
      "RangeIndex: 15266 entries, 0 to 15265\n",
      "Data columns (total 10 columns):\n",
      " #   Column       Non-Null Count  Dtype         \n",
      "---  ------       --------------  -----         \n",
      " 0   CustomerKey  15266 non-null  object        \n",
      " 1   Gender       15266 non-null  object        \n",
      " 2   Name         15266 non-null  object        \n",
      " 3   City         15266 non-null  object        \n",
      " 4   State Code   15266 non-null  object        \n",
      " 5   State        15266 non-null  object        \n",
      " 6   Zip Code     15266 non-null  object        \n",
      " 7   Country      15266 non-null  object        \n",
      " 8   Continent    15266 non-null  object        \n",
      " 9   Birthday     15266 non-null  datetime64[ns]\n",
      "dtypes: datetime64[ns](1), object(9)\n",
      "memory usage: 1.2+ MB\n"
     ]
    }
   ],
   "source": [
    "customers_df.info()"
   ]
  },
  {
   "cell_type": "markdown",
   "id": "42f478ea-c3ce-4c96-9de8-888ca2b5c55f",
   "metadata": {},
   "source": [
    "### Exchange Rates Data"
   ]
  },
  {
   "cell_type": "code",
   "execution_count": 10,
   "id": "fa3f4b8e-1376-4dc5-9a11-006a815e1de3",
   "metadata": {},
   "outputs": [
    {
     "name": "stdout",
     "output_type": "stream",
     "text": [
      "<class 'pandas.core.frame.DataFrame'>\n",
      "RangeIndex: 11215 entries, 0 to 11214\n",
      "Data columns (total 3 columns):\n",
      " #   Column    Non-Null Count  Dtype  \n",
      "---  ------    --------------  -----  \n",
      " 0   Date      11215 non-null  object \n",
      " 1   Currency  11215 non-null  object \n",
      " 2   Exchange  11215 non-null  float64\n",
      "dtypes: float64(1), object(2)\n",
      "memory usage: 263.0+ KB\n"
     ]
    }
   ],
   "source": [
    "exchange_rates_data.info()"
   ]
  },
  {
   "cell_type": "code",
   "execution_count": 11,
   "id": "71908707-0c23-4c5f-94de-532c2435ded5",
   "metadata": {},
   "outputs": [
    {
     "data": {
      "text/plain": [
       "Date        False\n",
       "Currency    False\n",
       "Exchange    False\n",
       "dtype: bool"
      ]
     },
     "execution_count": 11,
     "metadata": {},
     "output_type": "execute_result"
    }
   ],
   "source": [
    "exchange_rates_data.isnull().any() # No NA"
   ]
  },
  {
   "cell_type": "code",
   "execution_count": 12,
   "id": "732c5f82-ac72-4369-acfe-e811014185f6",
   "metadata": {},
   "outputs": [],
   "source": [
    "exchange_rates_df = exchange_rates_data.copy()"
   ]
  },
  {
   "cell_type": "code",
   "execution_count": 13,
   "id": "4ff75e7f-a04b-45ce-ab20-0f2b38255078",
   "metadata": {},
   "outputs": [],
   "source": [
    "exchange_rates_df = exchange_rates_df.astype({'Date':'datetime64[ns]'})"
   ]
  },
  {
   "cell_type": "markdown",
   "id": "19df9b29-f7c8-4554-b744-d1ebd143cfa5",
   "metadata": {},
   "source": [
    "### Products Data"
   ]
  },
  {
   "cell_type": "code",
   "execution_count": 14,
   "id": "92835cda-dd7b-4d66-9b8d-b1bbfc251eed",
   "metadata": {},
   "outputs": [
    {
     "name": "stdout",
     "output_type": "stream",
     "text": [
      "<class 'pandas.core.frame.DataFrame'>\n",
      "RangeIndex: 2517 entries, 0 to 2516\n",
      "Data columns (total 10 columns):\n",
      " #   Column          Non-Null Count  Dtype \n",
      "---  ------          --------------  ----- \n",
      " 0   ProductKey      2517 non-null   int64 \n",
      " 1   Product Name    2517 non-null   object\n",
      " 2   Brand           2517 non-null   object\n",
      " 3   Color           2517 non-null   object\n",
      " 4   Unit Cost USD   2517 non-null   object\n",
      " 5   Unit Price USD  2517 non-null   object\n",
      " 6   SubcategoryKey  2517 non-null   int64 \n",
      " 7   Subcategory     2517 non-null   object\n",
      " 8   CategoryKey     2517 non-null   int64 \n",
      " 9   Category        2517 non-null   object\n",
      "dtypes: int64(3), object(7)\n",
      "memory usage: 196.8+ KB\n"
     ]
    }
   ],
   "source": [
    "products_data.info()"
   ]
  },
  {
   "cell_type": "code",
   "execution_count": 15,
   "id": "c2cb3f8f-a120-4610-9186-86446494af7e",
   "metadata": {},
   "outputs": [
    {
     "data": {
      "text/plain": [
       "ProductKey        False\n",
       "Product Name      False\n",
       "Brand             False\n",
       "Color             False\n",
       "Unit Cost USD     False\n",
       "Unit Price USD    False\n",
       "SubcategoryKey    False\n",
       "Subcategory       False\n",
       "CategoryKey       False\n",
       "Category          False\n",
       "dtype: bool"
      ]
     },
     "execution_count": 15,
     "metadata": {},
     "output_type": "execute_result"
    }
   ],
   "source": [
    "products_data.isnull().any() # No NA"
   ]
  },
  {
   "cell_type": "code",
   "execution_count": 16,
   "id": "c9799b82-1b7b-4308-9248-ec4bdd4a5f26",
   "metadata": {},
   "outputs": [],
   "source": [
    "products_df = products_data.copy()"
   ]
  },
  {
   "cell_type": "code",
   "execution_count": 17,
   "id": "b84859d5-9b28-495a-aac4-e03fb65063f0",
   "metadata": {},
   "outputs": [],
   "source": [
    "products_df['Unit Cost USD'] = (\n",
    "    products_df['Unit Cost USD']\n",
    "    .str.replace(\"$\", \"\")\n",
    "    .str.replace(\",\", \"\")\n",
    "    .str.strip()\n",
    "    .astype(float)\n",
    ")"
   ]
  },
  {
   "cell_type": "code",
   "execution_count": 18,
   "id": "807305a2-e419-475b-b975-fb6a548d1017",
   "metadata": {},
   "outputs": [],
   "source": [
    "products_df['Unit Price USD'] = (\n",
    "    products_df['Unit Price USD']\n",
    "    .str.replace(\"$\", \"\")\n",
    "    .str.replace(\",\", \"\")\n",
    "    .str.strip()\n",
    "    .astype(float)\n",
    ")"
   ]
  },
  {
   "cell_type": "code",
   "execution_count": 19,
   "id": "80b7b0d9-ad46-4ae3-ae6a-9d660428245f",
   "metadata": {},
   "outputs": [],
   "source": [
    "products_df = products_df.astype({'ProductKey':'str',})"
   ]
  },
  {
   "cell_type": "markdown",
   "id": "bfdeb1e4-3455-4eb4-8d36-3686e3a14639",
   "metadata": {},
   "source": [
    "### Sales Data"
   ]
  },
  {
   "cell_type": "code",
   "execution_count": 20,
   "id": "177ce58b-4ffa-4846-9da1-2d4f884aba9c",
   "metadata": {},
   "outputs": [
    {
     "name": "stdout",
     "output_type": "stream",
     "text": [
      "<class 'pandas.core.frame.DataFrame'>\n",
      "RangeIndex: 62884 entries, 0 to 62883\n",
      "Data columns (total 9 columns):\n",
      " #   Column         Non-Null Count  Dtype \n",
      "---  ------         --------------  ----- \n",
      " 0   Order Number   62884 non-null  int64 \n",
      " 1   Line Item      62884 non-null  int64 \n",
      " 2   Order Date     62884 non-null  object\n",
      " 3   Delivery Date  13165 non-null  object\n",
      " 4   CustomerKey    62884 non-null  int64 \n",
      " 5   StoreKey       62884 non-null  int64 \n",
      " 6   ProductKey     62884 non-null  int64 \n",
      " 7   Quantity       62884 non-null  int64 \n",
      " 8   Currency Code  62884 non-null  object\n",
      "dtypes: int64(6), object(3)\n",
      "memory usage: 4.3+ MB\n"
     ]
    }
   ],
   "source": [
    "sales_data.info()"
   ]
  },
  {
   "cell_type": "code",
   "execution_count": 21,
   "id": "67e0167c-6380-4e40-ae96-2c4d8b77cb6f",
   "metadata": {},
   "outputs": [
    {
     "data": {
      "text/plain": [
       "Order Number     False\n",
       "Line Item        False\n",
       "Order Date       False\n",
       "Delivery Date     True\n",
       "CustomerKey      False\n",
       "StoreKey         False\n",
       "ProductKey       False\n",
       "Quantity         False\n",
       "Currency Code    False\n",
       "dtype: bool"
      ]
     },
     "execution_count": 21,
     "metadata": {},
     "output_type": "execute_result"
    }
   ],
   "source": [
    "sales_data.isnull().any() # Delivery Date has 80% N/A values so, not considering it."
   ]
  },
  {
   "cell_type": "code",
   "execution_count": 22,
   "id": "a3e60432-77ac-4588-9a98-860422941476",
   "metadata": {},
   "outputs": [],
   "source": [
    "sales_df = sales_data.copy()"
   ]
  },
  {
   "cell_type": "code",
   "execution_count": 23,
   "id": "1d672802-f553-4afd-86e0-3bb56e0dca5c",
   "metadata": {},
   "outputs": [],
   "source": [
    "sales_df = sales_df.astype({'Order Number':'str',\n",
    "                            'Order Date':'datetime64[ns]',\n",
    "                            'Delivery Date':'datetime64[ns]',\n",
    "                            'StoreKey':'str',\n",
    "                            'ProductKey':'str',\n",
    "                            'CustomerKey':'str'})"
   ]
  },
  {
   "cell_type": "markdown",
   "id": "8e090f5a-d2e2-4712-85cc-c697ff365a39",
   "metadata": {},
   "source": [
    "### Store Data"
   ]
  },
  {
   "cell_type": "code",
   "execution_count": 24,
   "id": "091bbf8c-d9c9-497f-89be-5edb90d5b112",
   "metadata": {},
   "outputs": [
    {
     "name": "stdout",
     "output_type": "stream",
     "text": [
      "<class 'pandas.core.frame.DataFrame'>\n",
      "RangeIndex: 67 entries, 0 to 66\n",
      "Data columns (total 5 columns):\n",
      " #   Column         Non-Null Count  Dtype  \n",
      "---  ------         --------------  -----  \n",
      " 0   StoreKey       67 non-null     int64  \n",
      " 1   Country        67 non-null     object \n",
      " 2   State          67 non-null     object \n",
      " 3   Square Meters  66 non-null     float64\n",
      " 4   Open Date      67 non-null     object \n",
      "dtypes: float64(1), int64(1), object(3)\n",
      "memory usage: 2.7+ KB\n"
     ]
    }
   ],
   "source": [
    "stores_data.info()"
   ]
  },
  {
   "cell_type": "code",
   "execution_count": 25,
   "id": "af0c0733-2e6a-4ad6-8de0-85b0357ccf00",
   "metadata": {},
   "outputs": [
    {
     "data": {
      "text/plain": [
       "StoreKey         False\n",
       "Country          False\n",
       "State            False\n",
       "Square Meters     True\n",
       "Open Date        False\n",
       "dtype: bool"
      ]
     },
     "execution_count": 25,
     "metadata": {},
     "output_type": "execute_result"
    }
   ],
   "source": [
    "stores_data.isnull().any()"
   ]
  },
  {
   "cell_type": "code",
   "execution_count": 26,
   "id": "820f7274-989d-4bff-9864-d1906fe4c5d6",
   "metadata": {},
   "outputs": [],
   "source": [
    "stores_df = stores_data.copy()"
   ]
  },
  {
   "cell_type": "code",
   "execution_count": 27,
   "id": "1e501447-f73c-4a19-8cbf-2a6f010f0a40",
   "metadata": {},
   "outputs": [],
   "source": [
    "stores_df = stores_df.astype({'StoreKey':'str','Open Date':'datetime64[ns]'})"
   ]
  },
  {
   "cell_type": "code",
   "execution_count": 28,
   "id": "1d14020a-403b-4b8d-b7ed-ab5d4fa1d8b2",
   "metadata": {},
   "outputs": [
    {
     "data": {
      "text/html": [
       "<div>\n",
       "<style scoped>\n",
       "    .dataframe tbody tr th:only-of-type {\n",
       "        vertical-align: middle;\n",
       "    }\n",
       "\n",
       "    .dataframe tbody tr th {\n",
       "        vertical-align: top;\n",
       "    }\n",
       "\n",
       "    .dataframe thead th {\n",
       "        text-align: right;\n",
       "    }\n",
       "</style>\n",
       "<table border=\"1\" class=\"dataframe\">\n",
       "  <thead>\n",
       "    <tr style=\"text-align: right;\">\n",
       "      <th></th>\n",
       "      <th>StoreKey</th>\n",
       "      <th>Country</th>\n",
       "      <th>State</th>\n",
       "      <th>Square Meters</th>\n",
       "      <th>Open Date</th>\n",
       "    </tr>\n",
       "  </thead>\n",
       "  <tbody>\n",
       "    <tr>\n",
       "      <th>66</th>\n",
       "      <td>0</td>\n",
       "      <td>Online</td>\n",
       "      <td>Online</td>\n",
       "      <td>NaN</td>\n",
       "      <td>2010-01-01</td>\n",
       "    </tr>\n",
       "  </tbody>\n",
       "</table>\n",
       "</div>"
      ],
      "text/plain": [
       "   StoreKey Country   State  Square Meters  Open Date\n",
       "66        0  Online  Online            NaN 2010-01-01"
      ]
     },
     "execution_count": 28,
     "metadata": {},
     "output_type": "execute_result"
    }
   ],
   "source": [
    "stores_df[stores_df.isnull().values]"
   ]
  },
  {
   "cell_type": "code",
   "execution_count": 29,
   "id": "ae2bb53c-0c0b-4d69-96cf-d1a8b57f8508",
   "metadata": {},
   "outputs": [],
   "source": [
    "stores_df.loc[stores_df['State']=='Online', 'Square Meters'] = 0 "
   ]
  },
  {
   "cell_type": "markdown",
   "id": "36064c10-aa5c-4d3a-9e74-2763fd528c55",
   "metadata": {},
   "source": [
    "### Check"
   ]
  },
  {
   "cell_type": "code",
   "execution_count": 30,
   "id": "385cdd6e-6aa4-4141-9610-008c89b219ff",
   "metadata": {},
   "outputs": [
    {
     "name": "stdout",
     "output_type": "stream",
     "text": [
      "Delivery Date    True\n",
      "dtype: bool\n"
     ]
    }
   ],
   "source": [
    "datasets = [customers_df, exchange_rates_df, products_df, sales_df, stores_df]\n",
    "for df in datasets:\n",
    "    col_has_na = df.isnull().any()\n",
    "    if True in col_has_na.values:\n",
    "        print(col_has_na[col_has_na.values])\n"
   ]
  },
  {
   "cell_type": "code",
   "execution_count": null,
   "id": "00cc7464-8442-4e07-893d-ea45e9ce5132",
   "metadata": {},
   "outputs": [],
   "source": []
  },
  {
   "cell_type": "markdown",
   "id": "7d127198-30a9-48b0-8d94-6c2310cb47ef",
   "metadata": {
    "jp-MarkdownHeadingCollapsed": true
   },
   "source": [
    "## Joining Dataset"
   ]
  },
  {
   "cell_type": "code",
   "execution_count": 31,
   "id": "a186573b-81d7-4823-a747-48e97b91bfee",
   "metadata": {
    "jp-MarkdownHeadingCollapsed": true
   },
   "outputs": [],
   "source": [
    "# sales_df will be our primary df"
   ]
  },
  {
   "cell_type": "code",
   "execution_count": 32,
   "id": "afd252f1-b7af-4430-bb5e-3c115687662e",
   "metadata": {},
   "outputs": [
    {
     "name": "stdout",
     "output_type": "stream",
     "text": [
      "True\n",
      "True\n",
      "False\n",
      "True\n"
     ]
    }
   ],
   "source": [
    "print(customers_df.CustomerKey.is_unique)\n",
    "print(products_df.ProductKey.is_unique)\n",
    "print(sales_df['Order Number'].is_unique)\n",
    "print(stores_df.StoreKey.is_unique)"
   ]
  },
  {
   "cell_type": "code",
   "execution_count": 33,
   "id": "558a4959-a479-4af0-afac-c19c82256fab",
   "metadata": {},
   "outputs": [
    {
     "data": {
      "text/plain": [
       "26326"
      ]
     },
     "execution_count": 33,
     "metadata": {},
     "output_type": "execute_result"
    }
   ],
   "source": [
    "len(sales_df['Order Number'].unique())"
   ]
  },
  {
   "cell_type": "code",
   "execution_count": 34,
   "id": "af940a2b-aa0e-416e-af92-821a6d828a9d",
   "metadata": {},
   "outputs": [],
   "source": [
    "master_df = sales_df.merge(products_df,on='ProductKey',how='left')\n",
    "master_df = master_df.merge(stores_df,on='StoreKey',how='left')\n",
    "master_df = master_df.merge(customers_df,on='CustomerKey',how='left',suffixes=['_Store','_Customer'])"
   ]
  },
  {
   "cell_type": "code",
   "execution_count": 35,
   "id": "71e31f8e-9a83-4051-8acc-442d1bbc4193",
   "metadata": {},
   "outputs": [
    {
     "name": "stdout",
     "output_type": "stream",
     "text": [
      "<class 'pandas.core.frame.DataFrame'>\n",
      "RangeIndex: 62884 entries, 0 to 62883\n",
      "Data columns (total 31 columns):\n",
      " #   Column            Non-Null Count  Dtype         \n",
      "---  ------            --------------  -----         \n",
      " 0   Order Number      62884 non-null  object        \n",
      " 1   Line Item         62884 non-null  int64         \n",
      " 2   Order Date        62884 non-null  datetime64[ns]\n",
      " 3   Delivery Date     13165 non-null  datetime64[ns]\n",
      " 4   CustomerKey       62884 non-null  object        \n",
      " 5   StoreKey          62884 non-null  object        \n",
      " 6   ProductKey        62884 non-null  object        \n",
      " 7   Quantity          62884 non-null  int64         \n",
      " 8   Currency Code     62884 non-null  object        \n",
      " 9   Product Name      62884 non-null  object        \n",
      " 10  Brand             62884 non-null  object        \n",
      " 11  Color             62884 non-null  object        \n",
      " 12  Unit Cost USD     62884 non-null  float64       \n",
      " 13  Unit Price USD    62884 non-null  float64       \n",
      " 14  SubcategoryKey    62884 non-null  int64         \n",
      " 15  Subcategory       62884 non-null  object        \n",
      " 16  CategoryKey       62884 non-null  int64         \n",
      " 17  Category          62884 non-null  object        \n",
      " 18  Country_Store     62884 non-null  object        \n",
      " 19  State_Store       62884 non-null  object        \n",
      " 20  Square Meters     62884 non-null  float64       \n",
      " 21  Open Date         62884 non-null  datetime64[ns]\n",
      " 22  Gender            62884 non-null  object        \n",
      " 23  Name              62884 non-null  object        \n",
      " 24  City              62884 non-null  object        \n",
      " 25  State Code        62884 non-null  object        \n",
      " 26  State_Customer    62884 non-null  object        \n",
      " 27  Zip Code          62884 non-null  object        \n",
      " 28  Country_Customer  62884 non-null  object        \n",
      " 29  Continent         62884 non-null  object        \n",
      " 30  Birthday          62884 non-null  datetime64[ns]\n",
      "dtypes: datetime64[ns](4), float64(3), int64(4), object(20)\n",
      "memory usage: 14.9+ MB\n"
     ]
    }
   ],
   "source": [
    "master_df.info()"
   ]
  },
  {
   "cell_type": "markdown",
   "id": "7795e068-37b5-4721-9668-39231c5055bf",
   "metadata": {},
   "source": [
    "### Finding Age as on Order Date"
   ]
  },
  {
   "cell_type": "code",
   "execution_count": 36,
   "id": "38936529-7888-40d5-a3b7-e6cc4af61e9b",
   "metadata": {},
   "outputs": [],
   "source": [
    "master_df['Age'] = master_df['Order Date'] - master_df['Birthday']"
   ]
  },
  {
   "cell_type": "code",
   "execution_count": 37,
   "id": "7ff7d5c8-1333-46e4-8c00-a2f17d18545f",
   "metadata": {},
   "outputs": [],
   "source": [
    "master_df['Age'] = master_df['Age'].dt.components.days/365.25"
   ]
  },
  {
   "cell_type": "code",
   "execution_count": 38,
   "id": "bb2fc8c5-de24-4652-88f9-e00fa6a3e87c",
   "metadata": {},
   "outputs": [],
   "source": [
    "master_df['Age'] = master_df['Age'].astype(int)"
   ]
  },
  {
   "cell_type": "markdown",
   "id": "dea14124-7321-4dac-9e6f-9cc1f1bd8e34",
   "metadata": {},
   "source": [
    "### Days taken to Delivery (Online Only)"
   ]
  },
  {
   "cell_type": "code",
   "execution_count": 39,
   "id": "aa26a1a3-f2a6-4c5a-b529-64022ae376fd",
   "metadata": {},
   "outputs": [],
   "source": [
    "master_df['Days_Taken'] = master_df['Delivery Date'] - master_df['Order Date']"
   ]
  },
  {
   "cell_type": "code",
   "execution_count": 40,
   "id": "e109f5d3-34f5-4366-836d-8bd1adf55c87",
   "metadata": {},
   "outputs": [],
   "source": [
    "master_df.Days_Taken = master_df.Days_Taken.dt.components.days.fillna(0)"
   ]
  },
  {
   "cell_type": "code",
   "execution_count": 41,
   "id": "57343a08-3b3d-494f-9030-20f0e43bb148",
   "metadata": {},
   "outputs": [],
   "source": [
    "master_df['Delivery Date'] = master_df['Order Date'] + pd.to_timedelta(master_df.Days_Taken,unit=\"days\")"
   ]
  },
  {
   "cell_type": "code",
   "execution_count": null,
   "id": "2946f594-1127-4333-8c6a-7bd0fbe8ee4d",
   "metadata": {},
   "outputs": [],
   "source": []
  },
  {
   "cell_type": "markdown",
   "id": "2c9dea54-990f-4b6b-8bd0-2f0ca120ca5c",
   "metadata": {},
   "source": [
    "### Total Cost & Price"
   ]
  },
  {
   "cell_type": "code",
   "execution_count": 42,
   "id": "1c21c3fa-2dd8-40fc-8624-62416f9c3caa",
   "metadata": {},
   "outputs": [],
   "source": [
    "master_df['Total Cost USD'] = master_df['Unit Cost USD'] * master_df['Quantity']"
   ]
  },
  {
   "cell_type": "code",
   "execution_count": 43,
   "id": "df64157d-e494-4480-bf4b-2735eaf2b93b",
   "metadata": {},
   "outputs": [],
   "source": [
    "master_df['Total Price USD'] = master_df['Unit Price USD'] * master_df['Quantity']"
   ]
  },
  {
   "cell_type": "markdown",
   "id": "07a254de-33cf-4bcf-ad44-29eaa1f69946",
   "metadata": {},
   "source": [
    "## EDA"
   ]
  },
  {
   "cell_type": "markdown",
   "id": "6cfb204e-eebb-48a9-9411-3d2eea153a97",
   "metadata": {},
   "source": [
    "### 1. Avg Customer Age"
   ]
  },
  {
   "cell_type": "code",
   "execution_count": 44,
   "id": "87958ea3-9485-4bab-a79a-fde22ff39201",
   "metadata": {},
   "outputs": [
    {
     "data": {
      "text/plain": [
       "49.591116033852906"
      ]
     },
     "execution_count": 44,
     "metadata": {},
     "output_type": "execute_result"
    }
   ],
   "source": [
    "master_df.groupby(['CustomerKey'])['Age'].mean().mean()"
   ]
  },
  {
   "cell_type": "code",
   "execution_count": 45,
   "id": "8bb9863c-6044-4d6c-b8c8-c3d0d6534e67",
   "metadata": {},
   "outputs": [
    {
     "data": {
      "text/plain": [
       "2019"
      ]
     },
     "execution_count": 45,
     "metadata": {},
     "output_type": "execute_result"
    }
   ],
   "source": [
    "# Age Bin\n",
    "len(master_df[(master_df.Age>=30)&(master_df.Age<40)].CustomerKey.unique())"
   ]
  },
  {
   "cell_type": "markdown",
   "id": "e845f90d-3cd5-4502-abf6-fd07b9044f31",
   "metadata": {},
   "source": [
    "### 2. Avg Order"
   ]
  },
  {
   "cell_type": "code",
   "execution_count": 46,
   "id": "73f13e1b-db3a-4875-a775-320d2f90848d",
   "metadata": {},
   "outputs": [
    {
     "data": {
      "text/plain": [
       "2.214688314965929"
      ]
     },
     "execution_count": 46,
     "metadata": {},
     "output_type": "execute_result"
    }
   ],
   "source": [
    "len(master_df['Order Number'].unique())/len(master_df.CustomerKey.unique())"
   ]
  },
  {
   "cell_type": "markdown",
   "id": "c3effe9d-668d-47b9-a2bc-6f099136f8f8",
   "metadata": {},
   "source": [
    "### 3. Online sales"
   ]
  },
  {
   "cell_type": "code",
   "execution_count": 47,
   "id": "2a41928d-f08f-4feb-a312-fb6216a3d922",
   "metadata": {},
   "outputs": [
    {
     "data": {
      "text/plain": [
       "11404324.629999999"
      ]
     },
     "execution_count": 47,
     "metadata": {},
     "output_type": "execute_result"
    }
   ],
   "source": [
    "master_df[master_df['StoreKey']=='0']['Total Price USD'].sum()"
   ]
  },
  {
   "cell_type": "markdown",
   "id": "148cb048-5719-427e-adf1-e30a9e8e6983",
   "metadata": {},
   "source": [
    "### 4. Avg Store Area"
   ]
  },
  {
   "cell_type": "code",
   "execution_count": 48,
   "id": "1e22819b-5319-4fe3-bbb0-41e1007cc402",
   "metadata": {},
   "outputs": [
    {
     "data": {
      "text/plain": [
       "1375.6896551724137"
      ]
     },
     "execution_count": 48,
     "metadata": {},
     "output_type": "execute_result"
    }
   ],
   "source": [
    "master_df.groupby(['StoreKey'])['Square Meters'].max().mean()"
   ]
  },
  {
   "cell_type": "markdown",
   "id": "5d3e3484-7e3b-4411-b860-73d8b15ff6d4",
   "metadata": {},
   "source": [
    "### 5. Avg Delivery Time taken"
   ]
  },
  {
   "cell_type": "code",
   "execution_count": 49,
   "id": "52faae08-ac50-4e1d-8190-5bbb31c2cbe8",
   "metadata": {},
   "outputs": [
    {
     "data": {
      "text/plain": [
       "4.529130269654386"
      ]
     },
     "execution_count": 49,
     "metadata": {},
     "output_type": "execute_result"
    }
   ],
   "source": [
    "master_df[master_df.Days_Taken>0].Days_Taken.mean()"
   ]
  },
  {
   "cell_type": "markdown",
   "id": "c7243740-6efb-4f5a-9e0e-f6c7db079469",
   "metadata": {},
   "source": [
    "### 6. Total Revenue"
   ]
  },
  {
   "cell_type": "code",
   "execution_count": 50,
   "id": "24090d3f-beb9-406b-8e7e-a9830f4f7294",
   "metadata": {},
   "outputs": [
    {
     "data": {
      "text/plain": [
       "55755479.589999996"
      ]
     },
     "execution_count": 50,
     "metadata": {},
     "output_type": "execute_result"
    }
   ],
   "source": [
    "master_df['Total Price USD'].sum()"
   ]
  },
  {
   "cell_type": "markdown",
   "id": "867a27cd-2207-4b99-bd61-3d882a54efc9",
   "metadata": {},
   "source": [
    "### 7. Total Profit"
   ]
  },
  {
   "cell_type": "code",
   "execution_count": 51,
   "id": "b217e8f7-eee8-4e88-a816-1fc80897cc56",
   "metadata": {},
   "outputs": [
    {
     "data": {
      "text/plain": [
       "32662688.38"
      ]
     },
     "execution_count": 51,
     "metadata": {},
     "output_type": "execute_result"
    }
   ],
   "source": [
    "master_df['Total Price USD'].sum() - master_df['Total Cost USD'].sum()"
   ]
  },
  {
   "cell_type": "markdown",
   "id": "b9bf72a4-d7a0-4999-a202-c40cd3e68d67",
   "metadata": {},
   "source": [
    "### 8. Product Popularity"
   ]
  },
  {
   "cell_type": "code",
   "execution_count": 52,
   "id": "ff3be172-58cc-43fd-b0fc-eab9b10d7f26",
   "metadata": {},
   "outputs": [
    {
     "data": {
      "text/plain": [
       "Product Name\n",
       "WWI Desktop PC2.33 X2330 Black    550\n",
       "Name: Quantity, dtype: int64"
      ]
     },
     "execution_count": 52,
     "metadata": {},
     "output_type": "execute_result"
    }
   ],
   "source": [
    "master_df.groupby(['Product Name'])['Quantity'].sum().nlargest(1)"
   ]
  },
  {
   "cell_type": "code",
   "execution_count": 53,
   "id": "2ed814aa-146c-49f8-be0d-b1a44e434e6b",
   "metadata": {},
   "outputs": [
    {
     "data": {
      "text/plain": [
       "Product Name\n",
       "Adventure Works Chandelier M8150 Black    1\n",
       "Name: Quantity, dtype: int64"
      ]
     },
     "execution_count": 53,
     "metadata": {},
     "output_type": "execute_result"
    }
   ],
   "source": [
    "master_df.groupby(['Product Name'])['Quantity'].sum().nsmallest(1)"
   ]
  },
  {
   "cell_type": "markdown",
   "id": "7eceba17-d2b1-4124-8dde-fdd718d99c0c",
   "metadata": {},
   "source": [
    "### 9. Top Brand"
   ]
  },
  {
   "cell_type": "code",
   "execution_count": 54,
   "id": "e0fc528e-d541-4412-81d9-46ce3a52bb1c",
   "metadata": {},
   "outputs": [
    {
     "data": {
      "text/plain": [
       "Brand\n",
       "Contoso    49827\n",
       "Name: Quantity, dtype: int64"
      ]
     },
     "execution_count": 54,
     "metadata": {},
     "output_type": "execute_result"
    }
   ],
   "source": [
    "# By Quantity\n",
    "master_df.groupby(['Brand'])['Quantity'].sum().nlargest(1)"
   ]
  },
  {
   "cell_type": "code",
   "execution_count": 55,
   "id": "bfb6f77c-1dd9-4e47-aef3-83e60126772c",
   "metadata": {},
   "outputs": [
    {
     "data": {
      "text/plain": [
       "Brand\n",
       "Adventure Works    11849909.32\n",
       "Name: Total Price USD, dtype: float64"
      ]
     },
     "execution_count": 55,
     "metadata": {},
     "output_type": "execute_result"
    }
   ],
   "source": [
    "# By Revenue\n",
    "master_df.groupby(['Brand'])['Total Price USD'].sum().nlargest(1)"
   ]
  },
  {
   "cell_type": "markdown",
   "id": "098b0102-b7fc-4276-86c4-4d71c19a14bb",
   "metadata": {},
   "source": [
    "### 10. Top Performing Stores by Revenue"
   ]
  },
  {
   "cell_type": "code",
   "execution_count": 56,
   "id": "ef8f565c-0d5d-456d-9dad-59ced43dfa52",
   "metadata": {},
   "outputs": [
    {
     "data": {
      "text/plain": [
       "StoreKey  Country_Store  State_Store\n",
       "0         Online         Online         11404324.63\n",
       "55        United States  Nevada          1417885.41\n",
       "50        United States  Kansas          1394738.06\n",
       "Name: Total Price USD, dtype: float64"
      ]
     },
     "execution_count": 56,
     "metadata": {},
     "output_type": "execute_result"
    }
   ],
   "source": [
    "master_df.groupby(['StoreKey','Country_Store', 'State_Store'])['Total Price USD'].sum().nlargest(3)"
   ]
  },
  {
   "cell_type": "markdown",
   "id": "e5147162-aaf3-4bb7-8a16-914480a3fbeb",
   "metadata": {},
   "source": [
    "## Visualisation"
   ]
  },
  {
   "cell_type": "markdown",
   "id": "0e26675d-1a48-486a-9e5b-c954defed98d",
   "metadata": {},
   "source": [
    "### 1. Age Distribution of Customers"
   ]
  },
  {
   "cell_type": "code",
   "execution_count": 91,
   "id": "3ce4ed55-fd7f-4ed6-8486-e56af3b6db53",
   "metadata": {},
   "outputs": [
    {
     "data": {
      "image/png": "[encoded data removed]",
      "text/plain": [
       "<Figure size 800x400 with 1 Axes>"
      ]
     },
     "metadata": {},
     "output_type": "display_data"
    }
   ],
   "source": [
    "plt.figure(figsize=(8, 4))\n",
    "sns.histplot(master_df['Age'], bins=10, kde=True, color='teal')\n",
    "plt.title('Age Distribution of Customers')\n",
    "plt.xlabel('Age')\n",
    "plt.ylabel('Frequency')\n",
    "plt.savefig('visuals/Age Distribution of Customers.png',bbox_inches='tight')\n",
    "plt.show()\n",
    "plt.close()"
   ]
  },
  {
   "cell_type": "markdown",
   "id": "3724e4a2-c673-4cc7-a64f-44f5d07ae932",
   "metadata": {},
   "source": [
    "### 2. Sales Trend Over Time"
   ]
  },
  {
   "cell_type": "code",
   "execution_count": 92,
   "id": "aecaa33a-6843-4df1-bfdc-20ae454e50d1",
   "metadata": {},
   "outputs": [
    {
     "data": {
      "image/png": "[encoded data removed]",
      "text/plain": [
       "<Figure size 800x400 with 1 Axes>"
      ]
     },
     "metadata": {},
     "output_type": "display_data"
    }
   ],
   "source": [
    "sales_trend = master_df.groupby(master_df['Order Date'].dt.to_period(\"M\"))['Total Price USD'].sum()\n",
    "\n",
    "plt.figure(figsize=(8, 4))\n",
    "sales_trend.plot(kind='line', marker='o', color='Blue')\n",
    "plt.title('Yearly Sales Trend')\n",
    "plt.xlabel('Date')\n",
    "plt.ylabel('Total Sales (USD)')\n",
    "plt.xticks(rotation=45)\n",
    "plt.savefig('visuals/Yearly Sales Trend.png',bbox_inches='tight')\n",
    "plt.show()\n",
    "plt.close()"
   ]
  },
  {
   "cell_type": "markdown",
   "id": "79ce8c96-5f80-4b96-9e76-53ef3cffaa68",
   "metadata": {},
   "source": [
    "### 3. Product Popularity (Top 5 Products)"
   ]
  },
  {
   "cell_type": "code",
   "execution_count": 93,
   "id": "72ca01ec-976e-4485-a0d8-3a1dece6bf9a",
   "metadata": {},
   "outputs": [
    {
     "data": {
      "image/png": "[encoded data removed]",
      "text/plain": [
       "<Figure size 800x400 with 1 Axes>"
      ]
     },
     "metadata": {},
     "output_type": "display_data"
    }
   ],
   "source": [
    "top_products = master_df.groupby('Product Name')['Quantity'].sum().nlargest(5)\n",
    "plt.figure(figsize=(8, 4))\n",
    "top_products.plot(kind='bar', color='green')\n",
    "plt.title('Top 5 Most Popular Products')\n",
    "plt.xlabel('Product Name')\n",
    "plt.ylabel('Quantity Sold')\n",
    "plt.xticks(rotation=45)\n",
    "plt.savefig('visuals/Popular Products.png',bbox_inches='tight')\n",
    "plt.show()\n",
    "plt.close()"
   ]
  },
  {
   "cell_type": "markdown",
   "id": "c5633d31-5e20-4ebc-86a5-769b84cf94f6",
   "metadata": {},
   "source": [
    "### 4. Sales by Store"
   ]
  },
  {
   "cell_type": "code",
   "execution_count": 94,
   "id": "c9660ca2-182f-4247-9d51-d4619ed26e7c",
   "metadata": {},
   "outputs": [
    {
     "data": {
      "image/png": "[encoded data removed]",
      "text/plain": [
       "<Figure size 800x400 with 1 Axes>"
      ]
     },
     "metadata": {},
     "output_type": "display_data"
    }
   ],
   "source": [
    "sales_by_store = master_df[master_df.StoreKey!='0'].groupby('StoreKey')['Total Price USD'].sum().nlargest(5)\n",
    "\n",
    "plt.figure(figsize=(8, 4))\n",
    "sales_by_store.plot(kind='bar', color='purple')\n",
    "plt.title('Total Sales by Store')\n",
    "plt.xlabel('Store Key')\n",
    "plt.ylabel('Total Sales (USD)')\n",
    "plt.xticks(rotation=45)\n",
    "plt.savefig('visuals/Total Sales by Store.png',bbox_inches='tight')\n",
    "plt.show()\n",
    "plt.close()"
   ]
  },
  {
   "cell_type": "markdown",
   "id": "1faba5da-135b-43c8-a36e-886e8a6e7887",
   "metadata": {},
   "source": [
    "### 5. Profit Margins by Product Category"
   ]
  },
  {
   "cell_type": "code",
   "execution_count": 95,
   "id": "58c2814f-d114-47f0-a656-673227bb8d1a",
   "metadata": {},
   "outputs": [
    {
     "data": {
      "image/png": "[encoded data removed]",
      "text/plain": [
       "<Figure size 800x400 with 1 Axes>"
      ]
     },
     "metadata": {},
     "output_type": "display_data"
    }
   ],
   "source": [
    "profit_margin = master_df.copy()\n",
    "profit_margin['Profit'] = profit_margin['Total Price USD'] - master_df['Total Cost USD']\n",
    "profit_by_category = profit_margin.groupby('Category')['Profit'].sum().sort_values()\n",
    "\n",
    "plt.figure(figsize=(8, 4))\n",
    "profit_by_category.plot(kind='barh', color='blue')\n",
    "plt.title('Profit Margins by Product Category')\n",
    "plt.xlabel('Total Profit (USD)')\n",
    "plt.ylabel('Product Category')\n",
    "plt.savefig('visuals/Profit Margins by Product Category.png',bbox_inches='tight')\n",
    "plt.show()\n",
    "plt.close()"
   ]
  },
  {
   "cell_type": "markdown",
   "id": "b8265d86-ea5a-4bf7-8ad8-c5ac32ab6659",
   "metadata": {},
   "source": [
    "### 6. Revenue by Continent"
   ]
  },
  {
   "cell_type": "code",
   "execution_count": 96,
   "id": "2377f332-d0a2-44ad-8a14-5e40f6e7b73d",
   "metadata": {},
   "outputs": [
    {
     "data": {
      "image/png": "[encoded data removed]",
      "text/plain": [
       "<Figure size 800x400 with 1 Axes>"
      ]
     },
     "metadata": {},
     "output_type": "display_data"
    }
   ],
   "source": [
    "revenue_by_continent = master_df.groupby('Continent')['Total Price USD'].sum().sort_values()\n",
    "\n",
    "plt.figure(figsize=(8, 4))\n",
    "revenue_by_continent.plot(kind='barh', color='orange')\n",
    "plt.title('Total Revenue by Continent')\n",
    "plt.xlabel('Total Revenue (USD)')\n",
    "plt.ylabel('Continent')\n",
    "plt.savefig('visuals/Revenue by Continent.png',bbox_inches='tight')\n",
    "plt.show()\n",
    "plt.close()"
   ]
  },
  {
   "cell_type": "markdown",
   "id": "ad569df9-cf4b-4551-b3c5-b9cb531884b4",
   "metadata": {},
   "source": [
    "## Store in SQL"
   ]
  },
  {
   "cell_type": "code",
   "execution_count": null,
   "id": "eee6c332-2fd6-4866-bd86-8e56292353f4",
   "metadata": {},
   "outputs": [],
   "source": []
  },
  {
   "cell_type": "code",
   "execution_count": null,
   "id": "0d90fa58-597a-4783-98e3-536c39bbecfc",
   "metadata": {},
   "outputs": [],
   "source": [
    "import mysql.connector"
   ]
  },
  {
   "cell_type": "code",
   "execution_count": null,
   "id": "3c315f82-9143-4a44-a241-0f13eabb34fa",
   "metadata": {},
   "outputs": [],
   "source": [
    "mysql_server  = 'localhost'\n",
    "mysql_user = 'root'\n",
    "mysql_password = '1234567890'\n",
    "mysql_database = 'dataspark_database'\n",
    "\n",
    "connection = mysql.connector.connect(\n",
    "    host= mysql_server,\n",
    "    user= mysql_user,\n",
    "    password= mysql_password\n",
    ")"
   ]
  },
  {
   "cell_type": "code",
   "execution_count": null,
   "id": "e07b9640-86f5-448d-bd6d-c207f8576a9f",
   "metadata": {},
   "outputs": [],
   "source": [
    "connection.database = 'dataspark_database'"
   ]
  },
  {
   "cell_type": "code",
   "execution_count": null,
   "id": "a1852be2-784f-4690-8fc3-52473c195e3c",
   "metadata": {},
   "outputs": [],
   "source": [
    "cursor = connection.cursor()"
   ]
  },
  {
   "cell_type": "code",
   "execution_count": null,
   "id": "8f110101-b04e-409c-9198-7e5583815ee8",
   "metadata": {},
   "outputs": [],
   "source": [
    "cursor.execute('DROP TABLE GE_Data;')"
   ]
  },
  {
   "cell_type": "code",
   "execution_count": null,
   "id": "6b6022e8-69db-4019-afdb-1f4f5d481a29",
   "metadata": {},
   "outputs": [],
   "source": [
    "create_query = '''CREATE TABLE IF NOT EXISTS GE_Data (\n",
    "    id INT AUTO_INCREMENT PRIMARY KEY,\n",
    "    OrderNumber VARCHAR(255) NOT NULL,\n",
    "    LineItem INT NOT NULL,\n",
    "    OrderDate DATE NOT NULL,\n",
    "    DeliveryDate DATE NOT NULL,\n",
    "    CustomerKey VARCHAR(255) NOT NULL,\n",
    "    StoreKey VARCHAR(255) NOT NULL,\n",
    "    ProductKey VARCHAR(255) NOT NULL,\n",
    "    Quantity INT NOT NULL,\n",
    "    CurrencyCode VARCHAR(10) NOT NULL,\n",
    "    ProductName VARCHAR(255) NOT NULL,\n",
    "    Brand VARCHAR(255) NOT NULL,\n",
    "    Color VARCHAR(50) NOT NULL,\n",
    "    UnitCostUSD DECIMAL(10, 2) NOT NULL,\n",
    "    UnitPriceUSD DECIMAL(10, 2) NOT NULL,\n",
    "    SubcategoryKey INT NOT NULL,\n",
    "    Subcategory VARCHAR(255) NOT NULL,\n",
    "    CategoryKey INT NOT NULL,\n",
    "    Category VARCHAR(255) NOT NULL,\n",
    "    Country_Store VARCHAR(255) NOT NULL,\n",
    "    State_Store VARCHAR(255) NOT NULL,\n",
    "    SquareMeters DECIMAL(10, 2) NOT NULL,\n",
    "    OpenDate DATE NOT NULL,\n",
    "    Gender VARCHAR(10) NOT NULL,\n",
    "    Name VARCHAR(255) NOT NULL,\n",
    "    City VARCHAR(255) NOT NULL,\n",
    "    StateCode VARCHAR(50) NOT NULL,\n",
    "    State_Customer VARCHAR(255) NOT NULL,\n",
    "    ZipCode VARCHAR(20) NOT NULL,\n",
    "    Country_Customer VARCHAR(255) NOT NULL,\n",
    "    Continent VARCHAR(50) NOT NULL,\n",
    "    Birthday DATE NOT NULL,\n",
    "    Age INT NOT NULL,\n",
    "    Days_Taken INT,\n",
    "    TotalCostUSD DECIMAL(10, 2) NOT NULL,\n",
    "    TotalPriceUSD DECIMAL(10, 2) NOT NULL\n",
    ");'''"
   ]
  },
  {
   "cell_type": "code",
   "execution_count": null,
   "id": "e0c6bae0-7905-4c24-89a8-a30e7a4841e5",
   "metadata": {},
   "outputs": [],
   "source": [
    "cursor.execute(create_query)"
   ]
  },
  {
   "cell_type": "code",
   "execution_count": null,
   "id": "893fa869-52a4-44bb-b266-99cddc727dc7",
   "metadata": {},
   "outputs": [],
   "source": [
    "INSERT_QUERY = \"\"\"\n",
    "INSERT INTO GE_Data (\n",
    "    OrderNumber, LineItem, OrderDate, DeliveryDate, CustomerKey, StoreKey, ProductKey, Quantity, \n",
    "    CurrencyCode, ProductName, Brand, Color, UnitCostUSD, UnitPriceUSD, SubcategoryKey, Subcategory, \n",
    "    CategoryKey, Category, Country_Store, State_Store, SquareMeters, OpenDate, Gender, Name, City, \n",
    "    StateCode, State_Customer, ZipCode, Country_Customer, Continent, Birthday, Age, Days_Taken,\n",
    "    TotalCostUSD, TotalPriceUSD\n",
    ") VALUES (\n",
    "    %s, %s, %s, %s, %s, %s, %s, %s, %s, %s, %s, %s, %s, %s, %s, %s, %s, %s, %s, %s, \n",
    "    %s, %s, %s, %s, %s, %s, %s, %s, %s, %s, %s, %s, %s, %s, %s\n",
    ")\n",
    "\"\"\""
   ]
  },
  {
   "cell_type": "code",
   "execution_count": null,
   "id": "43118b70-e2e9-4b61-8423-15b81a36773b",
   "metadata": {},
   "outputs": [],
   "source": [
    "for i, row in master_df.iterrows():\n",
    "    cursor.execute(INSERT_QUERY, tuple(row))"
   ]
  },
  {
   "cell_type": "code",
   "execution_count": null,
   "id": "2500e54d-0829-497a-bca6-b6da11c69c41",
   "metadata": {},
   "outputs": [],
   "source": [
    "connection.commit()"
   ]
  },
  {
   "cell_type": "code",
   "execution_count": null,
   "id": "3cf363eb-302b-46fa-ae9f-fbf04b5c2d26",
   "metadata": {},
   "outputs": [],
   "source": [
    "connection.close()"
   ]
  },
  {
   "cell_type": "code",
   "execution_count": null,
   "id": "f3a9d0bc-19ec-4f10-b850-97f6de565ba7",
   "metadata": {},
   "outputs": [],
   "source": []
  },
  {
   "cell_type": "code",
   "execution_count": null,
   "id": "f4ae0f2b-6ec4-41fa-922a-6cbe7e755ac9",
   "metadata": {},
   "outputs": [],
   "source": []
  }
 ],
 "metadata": {
  "kernelspec": {
   "display_name": "Python 3 (ipykernel)",
   "language": "python",
   "name": "python3"
  },
  "language_info": {
   "codemirror_mode": {
    "name": "ipython",
    "version": 3
   },
   "file_extension": ".py",
   "mimetype": "text/x-python",
   "name": "python",
   "nbconvert_exporter": "python",
   "pygments_lexer": "ipython3",
   "version": "3.11.5"
  }
 },
 "nbformat": 4,
 "nbformat_minor": 5
}
